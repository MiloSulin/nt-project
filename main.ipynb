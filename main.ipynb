{
 "cells": [
  {
   "cell_type": "markdown",
   "metadata": {},
   "source": [
    "# <center> <u> Network Theory 2024 Projektityö </u> </center>"
   ]
  },
  {
   "cell_type": "markdown",
   "metadata": {},
   "source": [
    "## <center> Bianconi-Barabasi malli</center>"
   ]
  },
  {
   "cell_type": "code",
   "execution_count": 1,
   "metadata": {},
   "outputs": [],
   "source": [
    "# paketit\n",
    "import networkx as nx\n",
    "import multiprocess as mltp\n",
    "import matplotlib.pyplot as plt\n",
    "import numpy as np # numpy importataan myös osana alla olevaa bbModelWrap moduulia, mutta tekstieditoreiden koodi analyysit eivät tätä huomaa\n",
    "import bbModelWrap as BB"
   ]
  },
  {
   "cell_type": "code",
   "execution_count": 2,
   "metadata": {},
   "outputs": [
    {
     "name": "stdout",
     "output_type": "stream",
     "text": [
      "[(0, 1, {}), (0, 3, {}), (0, 2, {}), (1, 2, {}), (2, 3, {})]\n",
      "[(0, {'fitness': 0.1}), (1, {'fitness': 0.2}), (2, {'fitness': 0.3}), (3, {'fitness': 0.4})]\n",
      "[(0, 3), (1, 2), (2, 3), (3, 2)]\n"
     ]
    }
   ],
   "source": [
    "test_edge = np.array([[0,1], [1,2], [2,3], [3,0], [0,2]])\n",
    "test_edge = test_edge.tolist()\n",
    "fit_dict = {0:0.1, 1:0.2, 2:0.3, 3:0.4}\n",
    "\n",
    "test_graph = nx.MultiGraph(test_edge)\n",
    "nx.set_node_attributes(test_graph, fit_dict, \"fitness\")\n",
    "\n",
    "print(test_graph.edges.data())\n",
    "print(test_graph.nodes.data())\n",
    "print(test_graph.degree)"
   ]
  },
  {
   "cell_type": "code",
   "execution_count": 4,
   "metadata": {},
   "outputs": [],
   "source": [
    "# testataan omaa funktiota ja nähdään kosahtaako kaikki\n",
    "fit_dict, test_edge = BB.generateBianconiBarabasi(1000000, 2, beta_constant=1.0, distr_type=\"BEC\")\n"
   ]
  }
 ],
 "metadata": {
  "kernelspec": {
   "display_name": "Python 3",
   "language": "python",
   "name": "python3"
  },
  "language_info": {
   "codemirror_mode": {
    "name": "ipython",
    "version": 3
   },
   "file_extension": ".py",
   "mimetype": "text/x-python",
   "name": "python",
   "nbconvert_exporter": "python",
   "pygments_lexer": "ipython3",
   "version": "3.11.9"
  }
 },
 "nbformat": 4,
 "nbformat_minor": 2
}
