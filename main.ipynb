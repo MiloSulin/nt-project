{
 "cells": [
  {
   "cell_type": "markdown",
   "metadata": {},
   "source": [
    "# <center> <u> Network Theory 2024 Projektityö </u> </center>"
   ]
  },
  {
   "cell_type": "markdown",
   "metadata": {},
   "source": [
    "## <center> Bianconi-Barabasi malli</center>"
   ]
  },
  {
   "cell_type": "code",
   "execution_count": 1,
   "metadata": {},
   "outputs": [],
   "source": [
    "# paketit\n",
    "import networkx as nx\n",
    "import multiprocess as mltp\n",
    "import matplotlib.pyplot as plt\n",
    "import numpy as np # numpy importataan myös osana alla olevaa bbModelWrap moduulia, mutta tekstieditoreiden koodi analyysit eivät tätä huomaa\n",
    "import bbModelWrap as BB"
   ]
  },
  {
   "cell_type": "code",
   "execution_count": 20,
   "metadata": {},
   "outputs": [],
   "source": [
    "# testataan omaa funktiota ja nähdään kosahtaako kaikki\n",
    "fit_dict, test_edge = BB.generateBianconiBarabasi(1000000, 2, beta_constant=5.0, distr_type=\"uniform\")"
   ]
  },
  {
   "cell_type": "code",
   "execution_count": 19,
   "metadata": {},
   "outputs": [
    {
     "name": "stdout",
     "output_type": "stream",
     "text": [
      "[[0, 10], [0, 10], [6, 11], [9, 11], [1, 12], [0, 12], [1, 13], [12, 13], [0, 14], [9, 14]]\n"
     ]
    }
   ],
   "source": [
    "print(test_edge[10:20])"
   ]
  },
  {
   "cell_type": "code",
   "execution_count": 16,
   "metadata": {},
   "outputs": [],
   "source": [
    "test = nx.barabasi_albert_graph(1000000, 2)"
   ]
  },
  {
   "cell_type": "code",
   "execution_count": 18,
   "metadata": {},
   "outputs": [
    {
     "ename": "NameError",
     "evalue": "name 'test' is not defined",
     "output_type": "error",
     "traceback": [
      "\u001b[1;31m---------------------------------------------------------------------------\u001b[0m",
      "\u001b[1;31mNameError\u001b[0m                                 Traceback (most recent call last)",
      "Cell \u001b[1;32mIn[18], line 1\u001b[0m\n\u001b[1;32m----> 1\u001b[0m \u001b[38;5;28;01mdel\u001b[39;00m \u001b[43mtest\u001b[49m\n",
      "\u001b[1;31mNameError\u001b[0m: name 'test' is not defined"
     ]
    }
   ],
   "source": [
    "del test"
   ]
  },
  {
   "cell_type": "code",
   "execution_count": null,
   "metadata": {},
   "outputs": [],
   "source": [
    "# energies = []\n",
    "# for key in fit_dict:\n",
    "#     energies.append(-np.log(fit_dict[key])/1.0)\n",
    "\n",
    "# fig, axes = plt.subplots(figsize=(6,5))\n",
    "# plt.hist(energies, bins=100)\n",
    "# plt.show()"
   ]
  },
  {
   "cell_type": "code",
   "execution_count": null,
   "metadata": {},
   "outputs": [],
   "source": [
    "# degree_total = sum([uniform_graph.degree(n) for n in uniform_graph.nodes()])\n",
    "# degree_freq = [val / degree_total for val in nx.degree_histogram(uniform_graph)]\n",
    "# degree_vals = [i for i in range(len(degree_freq))]\n",
    "# plt.scatter(degree_vals, degree_freq, alpha=0.8)\n",
    "# plt.yscale('log')\n",
    "# plt.xscale('log')\n",
    "# plt.tight_layout()\n",
    "# plt.show()"
   ]
  }
 ],
 "metadata": {
  "kernelspec": {
   "display_name": "Python 3",
   "language": "python",
   "name": "python3"
  },
  "language_info": {
   "codemirror_mode": {
    "name": "ipython",
    "version": 3
   },
   "file_extension": ".py",
   "mimetype": "text/x-python",
   "name": "python",
   "nbconvert_exporter": "python",
   "pygments_lexer": "ipython3",
   "version": "3.11.9"
  }
 },
 "nbformat": 4,
 "nbformat_minor": 2
}
