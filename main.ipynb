{
 "cells": [
  {
   "cell_type": "markdown",
   "metadata": {},
   "source": [
    "# <center> <u> Network Theory 2024 Projektityö </u> </center>"
   ]
  },
  {
   "cell_type": "markdown",
   "metadata": {},
   "source": [
    "## <center> Bianconi-Barabasi malli</center>"
   ]
  },
  {
   "cell_type": "code",
   "execution_count": 2,
   "metadata": {},
   "outputs": [],
   "source": [
    "# paketit\n",
    "import numpy as np\n",
    "import networkx as nx\n",
    "import multiprocess as mltp\n",
    "import matplotlib.pyplot as plt"
   ]
  },
  {
   "cell_type": "code",
   "execution_count": 22,
   "metadata": {},
   "outputs": [
    {
     "name": "stdout",
     "output_type": "stream",
     "text": [
      "[(0, 1, {'weight': 1}), (0, 1, {'weight': 1}), (0, 2, {'weight': 1})]\n",
      "[(0, {'fitness': 0.9437837485072845}), (1, {'fitness': 0.5173857974575062}), (2, {'fitness': 0.756684061470811})]\n",
      "3 2 1\n"
     ]
    }
   ],
   "source": [
    "edgelist = np.array([[0,2,1],[2,0,0],[1,0,0]])\n",
    "fitness_list = []\n",
    "\n",
    "gen = np.random.default_rng()\n",
    "\n",
    "for i in range(3):\n",
    "    fitness_list.append(gen.uniform(0.0, 1.0))\n",
    "    #edgelist.append((gen.integers(0, 9999), gen.integers(0, 9999)))\n",
    "\n",
    "test_graph = nx.from_numpy_array(edgelist, create_using=nx.MultiGraph, parallel_edges=True)\n",
    "# for i, fit in enumerate(fitness_list):\n",
    "    # nx.set_node_attributes(test_graph, {i: fit}, \"fitness\")\n",
    "\n",
    "fit_dict = dict(enumerate(fitness_list))\n",
    "nx.set_node_attributes(test_graph, fit_dict, \"fitness\")\n",
    "\n",
    "# test_graph.add_edges_from(edgelist)\n",
    "graph_info = list(test_graph.nodes.data())\n",
    "print(test_graph.edges.data())\n",
    "print(graph_info[0:5])\n",
    "print(test_graph.degree[0], test_graph.degree[1], test_graph.degree[2])"
   ]
  }
 ],
 "metadata": {
  "kernelspec": {
   "display_name": "Python 3",
   "language": "python",
   "name": "python3"
  },
  "language_info": {
   "codemirror_mode": {
    "name": "ipython",
    "version": 3
   },
   "file_extension": ".py",
   "mimetype": "text/x-python",
   "name": "python",
   "nbconvert_exporter": "python",
   "pygments_lexer": "ipython3",
   "version": "3.11.9"
  }
 },
 "nbformat": 4,
 "nbformat_minor": 2
}
