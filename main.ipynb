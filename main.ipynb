{
 "cells": [
  {
   "cell_type": "markdown",
   "metadata": {},
   "source": [
    "# <center> <u> Network Theory 2024 Projektityö </u> </center>"
   ]
  },
  {
   "cell_type": "markdown",
   "metadata": {},
   "source": [
    "## <center> Bianconi-Barabasi malli</center>"
   ]
  },
  {
   "cell_type": "code",
   "execution_count": 1,
   "metadata": {},
   "outputs": [],
   "source": [
    "# paketit\n",
    "import networkx as nx\n",
    "import multiprocess as mltp\n",
    "import matplotlib.pyplot as plt\n",
    "import numpy as np # numpy importataan myös osana alla olevaa bbModelWrap moduulia, mutta tekstieditoreiden koodi analyysit eivät tätä huomaa\n",
    "import bbModelWrap as BB"
   ]
  },
  {
   "cell_type": "code",
   "execution_count": 5,
   "metadata": {},
   "outputs": [],
   "source": [
    "# testataan omaa funktiota ja nähdään kosahtaako kaikki\n",
    "fit_dict, test_edge = BB.generateBianconiBarabasi(10000000, 2, beta_constant=0, distr_type=\"BEC\")"
   ]
  },
  {
   "cell_type": "code",
   "execution_count": 3,
   "metadata": {},
   "outputs": [
    {
     "name": "stdout",
     "output_type": "stream",
     "text": [
      "[[2, 10], [8, 10], [9, 11], [5, 11], [1, 12], [6, 12], [3, 13], [5, 13], [3, 14], [13, 14]]\n"
     ]
    }
   ],
   "source": [
    "print(test_edge[10:20])"
   ]
  },
  {
   "cell_type": "code",
   "execution_count": 7,
   "metadata": {},
   "outputs": [],
   "source": [
    "del fit_dict\n",
    "del test_edge"
   ]
  },
  {
   "cell_type": "code",
   "execution_count": null,
   "metadata": {},
   "outputs": [],
   "source": [
    "# energies = []\n",
    "# for key in fit_dict:\n",
    "#     energies.append(-np.log(fit_dict[key])/1.0)\n",
    "\n",
    "# fig, axes = plt.subplots(figsize=(6,5))\n",
    "# plt.hist(energies, bins=100)\n",
    "# plt.show()"
   ]
  },
  {
   "cell_type": "code",
   "execution_count": null,
   "metadata": {},
   "outputs": [],
   "source": [
    "# degree_total = sum([uniform_graph.degree(n) for n in uniform_graph.nodes()])\n",
    "# degree_freq = [val / degree_total for val in nx.degree_histogram(uniform_graph)]\n",
    "# degree_vals = [i for i in range(len(degree_freq))]\n",
    "# plt.scatter(degree_vals, degree_freq, alpha=0.8)\n",
    "# plt.yscale('log')\n",
    "# plt.xscale('log')\n",
    "# plt.tight_layout()\n",
    "# plt.show()"
   ]
  }
 ],
 "metadata": {
  "kernelspec": {
   "display_name": "Python 3",
   "language": "python",
   "name": "python3"
  },
  "language_info": {
   "codemirror_mode": {
    "name": "ipython",
    "version": 3
   },
   "file_extension": ".py",
   "mimetype": "text/x-python",
   "name": "python",
   "nbconvert_exporter": "python",
   "pygments_lexer": "ipython3",
   "version": "3.11.9"
  }
 },
 "nbformat": 4,
 "nbformat_minor": 2
}
